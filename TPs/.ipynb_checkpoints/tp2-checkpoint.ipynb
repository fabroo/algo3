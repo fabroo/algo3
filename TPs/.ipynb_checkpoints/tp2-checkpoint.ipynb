{
 "cells": [
  {
   "cell_type": "code",
   "execution_count": 41,
   "id": "29f74667",
   "metadata": {},
   "outputs": [],
   "source": [
    "from time import time"
   ]
  },
  {
   "cell_type": "code",
   "execution_count": 33,
   "id": "8dff42b2",
   "metadata": {},
   "outputs": [
    {
     "name": "stdout",
     "output_type": "stream",
     "text": [
      "1\n",
      "6\n",
      "10 100 50 30 80 10\n",
      "50 10 10 15 20 10\n",
      "Case 1. Decreasing (85). Increasing (50).\n"
     ]
    }
   ],
   "source": [
    "def lis_prueba(i, last, temp, width_sum, h, w, memo=None):\n",
    "    global lis\n",
    "    global best_width_sum\n",
    "    \n",
    "    if memo is None:\n",
    "        memo = {}\n",
    "    \n",
    "    if i == 0:\n",
    "        if len(temp) > len(lis) or width_sum > best_width_sum:\n",
    "            lis = temp[:]\n",
    "            best_width_sum = width_sum\n",
    "        return len(temp)\n",
    "        \n",
    "    if h[i - 1] <= last:\n",
    "        if (i - 1, tuple(temp)) not in memo:  # Adjust the memoization key\n",
    "            memo[(i - 1, tuple(temp))] = lis_prueba(i - 1, h[i - 1], [i - 1] + temp, width_sum + w[i - 1], h, w, memo)\n",
    "\n",
    "        f = memo[(i - 1, tuple(temp))]  # Adjust retrieval from memoization\n",
    "        return max(f, lis_prueba(i - 1, last, temp, width_sum, h, w, memo))\n",
    "    \n",
    "    return lis_prueba(i - 1, last, temp, width_sum, h, w, memo)\n",
    "\n",
    "def lds_prueba(i, last, temp, width_sum, h, w, memo=None):\n",
    "    global lds\n",
    "    global best_width_sum\n",
    "    \n",
    "    if memo is None:\n",
    "        memo = {}\n",
    "    \n",
    "    if i == 0:\n",
    "        if width_sum > best_width_sum:\n",
    "            lds = temp[:]\n",
    "            best_width_sum = width_sum\n",
    "        return len(temp)\n",
    "        \n",
    "    if h[i - 1] > last:\n",
    "        if (i - 1, tuple(temp)) not in memo:  # Adjust the memoization key\n",
    "            memo[(i - 1, tuple(temp))] = lds_prueba(i - 1, h[i - 1], [i - 1] + temp, width_sum + w[i - 1], h, w, memo)\n",
    "\n",
    "        f = memo[(i - 1, tuple(temp))]  # Adjust retrieval from memoization\n",
    "        return max(f, lds_prueba(i - 1, last, temp, width_sum, h, w, memo))\n",
    "    \n",
    "    return lds_prueba(i - 1, last, temp, width_sum, h, w, memo)\n",
    "\n",
    "\n",
    "T = int(input())\n",
    "cases = []\n",
    "\n",
    "for _ in range(T):\n",
    "    n = int(input())\n",
    "    h = [int(i) for i in input().split()]\n",
    "    w = [int(i) for i in input().split()]\n",
    "    cases.append((h, w))\n",
    "\n",
    "for i in range(1, len(cases) + 1):\n",
    "    h, w = cases[i - 1]\n",
    "    lds = []\n",
    "    lis = []\n",
    "    best_width_sum = -1\n",
    "\n",
    "    lds_prueba(len(h), -1, [], 0, h, w)\n",
    "    A = best_width_sum\n",
    "    lis_prueba(len(h), float('inf'), [], 0, h, w)\n",
    "    B = best_width_sum\n",
    "    \n",
    "    delta = A - B\n",
    "    \n",
    "    if delta >= 0:\n",
    "        print(f\"Case {i}. Increasing ({A}). Decreasing ({B}).\")\n",
    "    else:\n",
    "        print(f\"Case {i}. Decreasing ({B}). Increasing ({A}).\")\n"
   ]
  },
  {
   "cell_type": "code",
   "execution_count": 32,
   "id": "2916cad6",
   "metadata": {},
   "outputs": [
    {
     "name": "stdout",
     "output_type": "stream",
     "text": [
      "Longest Increasing Subsequence: [0]\n",
      "length = 50\n"
     ]
    }
   ],
   "source": [
    "def lis_prueba(i, last, temp, width_sum, h, w, memo=None):\n",
    "    global lis\n",
    "    global best_width_sum\n",
    "    \n",
    "    if memo is None:\n",
    "        memo = {}\n",
    "    \n",
    "    if i == 0:\n",
    "        if len(temp) > len(lis) or width_sum > best_width_sum:\n",
    "            lis = temp[:]\n",
    "            best_width_sum = width_sum\n",
    "        return len(temp)\n",
    "        \n",
    "    if h[i - 1] <= last:\n",
    "        if tuple([h[i - 1]] + temp) not in memo:\n",
    "            memo[tuple([i - 1] + temp)] = lis_prueba(i - 1, h[i - 1], [i - 1] + temp, width_sum + w[i - 1], h, w, memo)\n",
    "\n",
    "        f = memo[tuple([i - 1] + temp)]\n",
    "        return max(f, lis_prueba(i - 1, last, temp, width_sum, h, w, memo))\n",
    "    \n",
    "    return lis_prueba(i - 1, last, temp,width_sum, h, w, memo)\n",
    "\n",
    "def lds_prueba(i, last, temp, width_sum, h, w, memo=None):\n",
    "    global lds\n",
    "    global best_width_sum\n",
    "    \n",
    "    if memo is None:\n",
    "        memo = {}\n",
    "    \n",
    "    if i == 0:\n",
    "        if  width_sum > best_width_sum:\n",
    "            lds = temp[:]\n",
    "            best_width_sum = width_sum\n",
    "        return len(temp)\n",
    "        \n",
    "    if h[i - 1] > last:\n",
    "        if tuple([h[i - 1]] + temp) not in memo:\n",
    "            memo[tuple([i - 1] + temp)] = lds_prueba(i - 1, h[i - 1], [i - 1] + temp, width_sum + w[i - 1], h, w, memo)\n",
    "\n",
    "        f = memo[tuple([i - 1] + temp)]\n",
    "        return max(f, lds_prueba(i - 1, last, temp, width_sum, h, w, memo))\n",
    "    \n",
    "    return lds_prueba(i - 1, last, temp,width_sum, h, w, memo)\n",
    "\n",
    "lds = []\n",
    "lis = []\n",
    "best_width_sum = -1\n",
    "\n",
    "h = [10, 100, 50, 30, 80, 10]\n",
    "w = [50,10, 10, 15, 20, 10]\n",
    "\n",
    "lds_prueba(len(h), -1, [], 0, h, w)\n",
    "\n",
    "print(\"Longest Increasing Subsequence:\", lds)\n",
    "print(f\"length = {best_width_sum}\")\n"
   ]
  },
  {
   "cell_type": "code",
   "execution_count": 199,
   "id": "5008dd48",
   "metadata": {},
   "outputs": [
    {
     "data": {
      "text/plain": [
       "[[None, None, None, None, None, None, None],\n",
       " [None, None, None, None, None, None, None],\n",
       " [None, None, None, None, None, None, None],\n",
       " [None, None, None, None, None, None, None],\n",
       " [None, None, None, None, None, None, None],\n",
       " [None, None, None, None, None, None, None],\n",
       " [None, None, None, None, None, None, None]]"
      ]
     },
     "execution_count": 199,
     "metadata": {},
     "output_type": "execute_result"
    }
   ],
   "source": [
    "M"
   ]
  }
 ],
 "metadata": {
  "kernelspec": {
   "display_name": "Python 3 (ipykernel)",
   "language": "python",
   "name": "python3"
  },
  "language_info": {
   "codemirror_mode": {
    "name": "ipython",
    "version": 3
   },
   "file_extension": ".py",
   "mimetype": "text/x-python",
   "name": "python",
   "nbconvert_exporter": "python",
   "pygments_lexer": "ipython3",
   "version": "3.10.12"
  }
 },
 "nbformat": 4,
 "nbformat_minor": 5
}
