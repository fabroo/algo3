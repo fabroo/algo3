{
 "cells": [
  {
   "cell_type": "code",
   "execution_count": 89,
   "id": "41b26629",
   "metadata": {},
   "outputs": [
    {
     "data": {
      "text/plain": [
       "(('emotionalblind', 'jaan', 'sameezahur', 'sohelh', 'tanaeem'),\n",
       " ('brokenarrow', 'muntasir', 'shadowcoder', 'shamim', 'sidky'))"
      ]
     },
     "execution_count": 89,
     "metadata": {},
     "output_type": "execute_result"
    }
   ],
   "source": [
    "# ej 1\n",
    "def formation(players):\n",
    "    groups = {}\n",
    "    for player in players:\n",
    "        second_coord = player[1]\n",
    "        if second_coord not in groups:\n",
    "            groups[second_coord] = []\n",
    "        groups[second_coord].append(player)\n",
    "    \n",
    "    sorted_groups = {}\n",
    "    for key, group in groups.items():\n",
    "        sorted_group = sorted(group, key=lambda x: x[2])\n",
    "        sorted_groups[key] = sorted_group\n",
    "    \n",
    "    sorted_players = []\n",
    "    for key in sorted(sorted_groups.keys(), reverse=True):\n",
    "        sorted_players.extend(sorted_groups[key])\n",
    "    \n",
    "    attacker = sorted(sorted_players[0:5], key = lambda x: x[0])\n",
    "    deff = sorted(sorted_players[5:], key = lambda x: x[0])\n",
    "    \n",
    "    return tuple(r[0] for r in attacker), tuple(r[0] for r in deff)\n",
    "\n",
    "players = [   \n",
    "    ('sameezahur', 20, 21),\n",
    "    ('sohelh' ,18 ,9),\n",
    "    ('jaan' ,17 ,86),\n",
    "    ('sidky' ,16 ,36),\n",
    "    ('shamim' ,16 ,18),\n",
    "    ('shadowcoder', 12 ,9),\n",
    "    ('muntasir' ,13 ,4),\n",
    "    ('brokenarrow' ,16 ,16),\n",
    "    ('emotionalblind' ,16, 12),\n",
    "    ('tanaeem' ,20, 97)\n",
    "]\n",
    "\n",
    "formation(players)"
   ]
  },
  {
   "cell_type": "code",
   "execution_count": 72,
   "id": "92d572f9",
   "metadata": {},
   "outputs": [
    {
     "data": {
      "text/plain": [
       "(1, 2)"
      ]
     },
     "execution_count": 72,
     "metadata": {},
     "output_type": "execute_result"
    }
   ],
   "source": [
    "tuple((a for a in [1, 2]))"
   ]
  }
 ],
 "metadata": {
  "kernelspec": {
   "display_name": "Python 3 (ipykernel)",
   "language": "python",
   "name": "python3"
  },
  "language_info": {
   "codemirror_mode": {
    "name": "ipython",
    "version": 3
   },
   "file_extension": ".py",
   "mimetype": "text/x-python",
   "name": "python",
   "nbconvert_exporter": "python",
   "pygments_lexer": "ipython3",
   "version": "3.10.12"
  }
 },
 "nbformat": 4,
 "nbformat_minor": 5
}
