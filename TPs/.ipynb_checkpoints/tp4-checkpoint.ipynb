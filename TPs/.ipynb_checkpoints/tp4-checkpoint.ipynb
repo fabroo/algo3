{
 "cells": [
  {
   "cell_type": "code",
   "execution_count": null,
   "id": "9e76d15c",
   "metadata": {},
   "outputs": [],
   "source": []
  },
  {
   "cell_type": "code",
   "execution_count": 21,
   "id": "7bfa1b4e",
   "metadata": {},
   "outputs": [
    {
     "name": "stdout",
     "output_type": "stream",
     "text": [
      "a\n",
      "a\n",
      "YES\n"
     ]
    }
   ],
   "source": [
    "def equivStringsHelper(a, b):\n",
    "    n = len(a)\n",
    "    \n",
    "    if n <= 1:\n",
    "        return a == b\n",
    "    \n",
    "    if n != len(b):\n",
    "        return False\n",
    "    \n",
    "    mid = n // 2\n",
    "    if n % 2 == 0:\n",
    "        return (equivStringsHelper(a[mid:], b[:mid]) and equivStringsHelper(a[:mid], b[mid:])) or \\\n",
    "               (equivStringsHelper(a[mid:], b[mid:]) and equivStringsHelper(a[:mid], b[:mid]))\n",
    "    else:\n",
    "        return ((equivStringsHelper(a[mid+1:], b[:mid]) and equivStringsHelper(a[:mid], b[mid+1:])) or \\\n",
    "               (equivStringsHelper(a[mid+1:], b[mid+1:]) and equivStringsHelper(a[:mid], b[:mid]))) and a[mid] == b[mid]\n",
    "        \n",
    "def equivStrings(a, b):\n",
    "    if equivStringsHelper(a, b):\n",
    "        print('YES')\n",
    "    else:\n",
    "        print('NO')\n",
    "\n",
    "# Read input\n",
    "a = input()\n",
    "b = input()\n",
    "equivStrings(a.strip(), b.strip())\n"
   ]
  },
  {
   "cell_type": "code",
   "execution_count": null,
   "id": "6fea5c3e",
   "metadata": {},
   "outputs": [],
   "source": [
    "\n"
   ]
  }
 ],
 "metadata": {
  "kernelspec": {
   "display_name": "Python 3 (ipykernel)",
   "language": "python",
   "name": "python3"
  },
  "language_info": {
   "codemirror_mode": {
    "name": "ipython",
    "version": 3
   },
   "file_extension": ".py",
   "mimetype": "text/x-python",
   "name": "python",
   "nbconvert_exporter": "python",
   "pygments_lexer": "ipython3",
   "version": "3.10.12"
  }
 },
 "nbformat": 4,
 "nbformat_minor": 5
}
