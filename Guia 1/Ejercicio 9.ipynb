{
 "cells": [
  {
   "cell_type": "code",
   "execution_count": 12,
   "id": "d67d5531",
   "metadata": {},
   "outputs": [
    {
     "name": "stdout",
     "output_type": "stream",
     "text": [
      "6\n"
     ]
    }
   ],
   "source": [
    "def travesiaVital(i, j, memo=None):\n",
    "    global A, n, m  # Agregamos estas variables como globales\n",
    "    \n",
    "    if memo is None:\n",
    "        memo = [[None] * m for _ in range(n)]  # Corregimos el tamaño de la matriz de memorización\n",
    "\n",
    "    if i == n - 1 and j == m - 1:\n",
    "        if A[i][j] < 0:\n",
    "            return abs(A[i][j]) + 1\n",
    "        return 1\n",
    "\n",
    "    if memo[i][j] is not None:\n",
    "        return memo[i][j]\n",
    "\n",
    "    if i < n and j < m:\n",
    "        right_cost = travesiaVital(i, j + 1, memo) if j + 1 < m else 1\n",
    "        down_cost = travesiaVital(i + 1, j, memo) if i + 1 < n else 1\n",
    "        next_min = min(right_cost, down_cost)\n",
    "        memo[i][j] = max(1, next_min - A[i][j])\n",
    "        \n",
    "    elif i < n:\n",
    "        down_cost = travesiaVital(i + 1, j, memo)\n",
    "        memo[i][j] = max(1, down_cost - A[i][j])\n",
    "        \n",
    "    else:\n",
    "        right_cost = travesiaVital(i, j + 1, memo)\n",
    "        memo[i][j] = max(1, right_cost - A[i][j])\n",
    "        \n",
    "    return memo[i][j]\n",
    "\n",
    "A = [[-2, -3, 3],\n",
    "     [-5, -10, 1],\n",
    "     [10, 30, -5]]\n",
    "\n",
    "n = len(A)\n",
    "m = len(A[0])\n",
    "\n",
    "print(travesiaVital(0, 0))"
   ]
  }
 ],
 "metadata": {
  "kernelspec": {
   "display_name": "Python 3 (ipykernel)",
   "language": "python",
   "name": "python3"
  },
  "language_info": {
   "codemirror_mode": {
    "name": "ipython",
    "version": 3
   },
   "file_extension": ".py",
   "mimetype": "text/x-python",
   "name": "python",
   "nbconvert_exporter": "python",
   "pygments_lexer": "ipython3",
   "version": "3.10.12"
  }
 },
 "nbformat": 4,
 "nbformat_minor": 5
}
