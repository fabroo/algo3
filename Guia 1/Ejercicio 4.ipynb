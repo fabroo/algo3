{
 "cells": [
  {
   "cell_type": "code",
   "execution_count": 1,
   "id": "9ea3994a",
   "metadata": {},
   "outputs": [
    {
     "data": {
      "text/plain": [
       "[1, 2, 3, 4]"
      ]
     },
     "execution_count": 1,
     "metadata": {},
     "output_type": "execute_result"
    }
   ],
   "source": [
    "best_permutation = []\n",
    "best_sum = -1\n",
    "\n",
    "def pi(I, i):\n",
    "    return I[i] - 1 \n",
    "\n",
    "def perform_sum(D, I, n):\n",
    "    sumatoria = 0\n",
    "    for i in range(n - 1):  \n",
    "        sumatoria += D[pi(I, i)][pi(I, i + 1)] \n",
    "    return D[pi(I, n - 1)][pi(I, 0)] + sumatoria  \n",
    "\n",
    "def ruta_minima(D, I, n, used_numbers):\n",
    "    global best_permutation\n",
    "    global best_sum\n",
    "    \n",
    "    if len(I) == n:\n",
    "        s = perform_sum(D, I, n)\n",
    "        if best_sum == -1 or s < best_sum:\n",
    "            best_sum = s\n",
    "            best_permutation = I[:]\n",
    "            \n",
    "    else:\n",
    "        for i in range(1, n + 1): \n",
    "            if c[i - 1] != 0:\n",
    "                continue\n",
    "            c[i - 1] = 1\n",
    "            I_perm = I[:] + [i]\n",
    "            # posible poda por opt. si la suma es mas grande no seguir.\n",
    "            ruta_minima(D, I_perm, n, used_numbers + [i])\n",
    "            c[i - 1] = 0\n",
    "\n",
    "D = [[0, 1, 10, 10],\n",
    "     [10, 0, 3, 15],\n",
    "     [21, 17, 0, 2],\n",
    "     [3, 22, 30, 0]]\n",
    "\n",
    "c = [0 for _ in range(len(D))]\n",
    "ruta_minima(D, [], len(D), [])\n",
    "best_permutation"
   ]
  }
 ],
 "metadata": {
  "kernelspec": {
   "display_name": "Python 3 (ipykernel)",
   "language": "python",
   "name": "python3"
  },
  "language_info": {
   "codemirror_mode": {
    "name": "ipython",
    "version": 3
   },
   "file_extension": ".py",
   "mimetype": "text/x-python",
   "name": "python",
   "nbconvert_exporter": "python",
   "pygments_lexer": "ipython3",
   "version": "3.10.12"
  }
 },
 "nbformat": 4,
 "nbformat_minor": 5
}
