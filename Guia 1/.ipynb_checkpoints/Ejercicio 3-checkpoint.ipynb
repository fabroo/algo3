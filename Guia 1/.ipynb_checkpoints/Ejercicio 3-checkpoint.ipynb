{
 "cells": [
  {
   "cell_type": "code",
   "execution_count": 1,
   "id": "2256b2cf",
   "metadata": {},
   "outputs": [
    {
     "name": "stdout",
     "output_type": "stream",
     "text": [
      "[3]\n"
     ]
    }
   ],
   "source": [
    "M = [[0, 10, 10, 1],\n",
    "     [10, 0, 5, 2],\n",
    "     [10, 5, 100, 1],\n",
    "     [1, 2 , 1, 0]]\n",
    "\n",
    "# realiza la suma de las combinaciones de indices\n",
    "def sum_indexes(M, I):\n",
    "    s = 0\n",
    "    for i in I:\n",
    "        for j in I:\n",
    "            s += M[i - 1][j - 1]\n",
    "    \n",
    "    return s\n",
    "\n",
    "# valida que no hayan indices duplicados\n",
    "def valid_subset(I):\n",
    "    c = {}\n",
    "    for i in I:\n",
    "        if i not in c:\n",
    "            c[i] = 1\n",
    "        else:\n",
    "            c[i] += 1\n",
    "    for i in I:\n",
    "        if c[i] > 1:\n",
    "            return False\n",
    "    return True\n",
    "\n",
    "best_subset = []\n",
    "best_sum = -1\n",
    "\n",
    "def MaxiSubConjunto(M, I, k, I_best):\n",
    "    global best_subset\n",
    "    global best_sum\n",
    "    \n",
    "    if len(I) == k:\n",
    "        subset_sum = sum_indexes(M, I)\n",
    "        if valid_subset(I) and subset_sum > best_sum:\n",
    "            best_sum = subset_sum\n",
    "            I_best = I[:]\n",
    "            best_subset = I_best\n",
    "    \n",
    "    else:\n",
    "        initial = 1 if len(I) == 0 else I[-1] + 1\n",
    "        for j in range(initial, len(M) + 1):\n",
    "            MaxiSubConjunto(M, I + [j], k, I_best)\n",
    "\n",
    "\n",
    "k = 1\n",
    "i = 0\n",
    "MaxiSubConjunto(M, [], k, [])\n",
    "print(best_subset)"
   ]
  }
 ],
 "metadata": {
  "kernelspec": {
   "display_name": "Python 3 (ipykernel)",
   "language": "python",
   "name": "python3"
  },
  "language_info": {
   "codemirror_mode": {
    "name": "ipython",
    "version": 3
   },
   "file_extension": ".py",
   "mimetype": "text/x-python",
   "name": "python",
   "nbconvert_exporter": "python",
   "pygments_lexer": "ipython3",
   "version": "3.10.12"
  }
 },
 "nbformat": 4,
 "nbformat_minor": 5
}
