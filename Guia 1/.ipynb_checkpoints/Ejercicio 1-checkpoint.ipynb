{
 "cells": [
  {
   "cell_type": "code",
   "execution_count": 2,
   "id": "948b671a",
   "metadata": {},
   "outputs": [],
   "source": [
    "cjto = []\n",
    "def subset_sum(C, i, j, A):\n",
    "    if j < 0:\n",
    "        return []\n",
    "    elif i == 0:\n",
    "        if j == 0:\n",
    "            return A\n",
    "        else:\n",
    "            return []\n",
    "    else:\n",
    "        return subset_sum(C, i - 1, j, A) or subset_sum(C, i - 1, j - C[i], A + [C[i]])\n"
   ]
  },
  {
   "cell_type": "code",
   "execution_count": 3,
   "id": "ee9402dd",
   "metadata": {},
   "outputs": [
    {
     "data": {
      "text/plain": [
       "[6, 6]"
      ]
     },
     "execution_count": 3,
     "metadata": {},
     "output_type": "execute_result"
    }
   ],
   "source": [
    "C = [12, 6, 6]\n",
    "n = len(C) - 1\n",
    "subset_sum(C, n, 12, [])"
   ]
  }
 ],
 "metadata": {
  "kernelspec": {
   "display_name": "Python 3 (ipykernel)",
   "language": "python",
   "name": "python3"
  },
  "language_info": {
   "codemirror_mode": {
    "name": "ipython",
    "version": 3
   },
   "file_extension": ".py",
   "mimetype": "text/x-python",
   "name": "python",
   "nbconvert_exporter": "python",
   "pygments_lexer": "ipython3",
   "version": "3.10.12"
  }
 },
 "nbformat": 4,
 "nbformat_minor": 5
}
