{
 "cells": [
  {
   "cell_type": "code",
   "execution_count": 18,
   "id": "b02ebba2",
   "metadata": {},
   "outputs": [
    {
     "data": {
      "text/plain": [
       "6"
      ]
     },
     "execution_count": 18,
     "metadata": {},
     "output_type": "execute_result"
    }
   ],
   "source": [
    "def travesiaVital(i, j):\n",
    "    if i == n and j == m:\n",
    "        a = A[i - 1][j - 1]\n",
    "        if a < 0:\n",
    "            return abs(a) + 1\n",
    "        return 1\n",
    "    \n",
    "    if j == m:\n",
    "        a = A[i - 1][j - 1]\n",
    "        prox = travesiaVital(i + 1, j)\n",
    "        if prox - a > 0:\n",
    "            return prox - a\n",
    "        return 1\n",
    "    \n",
    "    if i == n:\n",
    "        a = A[i - 1][j - 1]\n",
    "        prox = travesiaVital(i, j + 1)\n",
    "        \n",
    "        if prox - a > 0:\n",
    "            return prox - a\n",
    "        return 1\n",
    "    \n",
    "    prox_d = travesiaVital(i, j + 1)\n",
    "    prox_a = travesiaVital(i + 1, j)\n",
    "    \n",
    "    comp = min(prox_a, prox_d) - A[i][j]\n",
    "\n",
    "    if comp > 0:\n",
    "        return comp\n",
    "    \n",
    "    return 1\n",
    "\n",
    "A = [[-2, -3, 3],\n",
    "     [-5, -10, 1],\n",
    "     [10, 30, -5]]\n",
    "\n",
    "n = len(A)\n",
    "m = len(A[0])\n",
    "\n",
    "travesiaVital(0, 0)"
   ]
  }
 ],
 "metadata": {
  "kernelspec": {
   "display_name": "Python 3 (ipykernel)",
   "language": "python",
   "name": "python3"
  },
  "language_info": {
   "codemirror_mode": {
    "name": "ipython",
    "version": 3
   },
   "file_extension": ".py",
   "mimetype": "text/x-python",
   "name": "python",
   "nbconvert_exporter": "python",
   "pygments_lexer": "ipython3",
   "version": "3.10.12"
  }
 },
 "nbformat": 4,
 "nbformat_minor": 5
}
