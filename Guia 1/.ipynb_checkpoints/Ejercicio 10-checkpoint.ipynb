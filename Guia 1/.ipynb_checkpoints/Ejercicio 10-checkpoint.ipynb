{
 "cells": [
  {
   "cell_type": "code",
   "execution_count": 29,
   "id": "d3a69c59",
   "metadata": {},
   "outputs": [],
   "source": [
    "def pilaCautaBT(i, s, temp):\n",
    "    global res\n",
    "    \n",
    "    if i == N:\n",
    "        res = temp[:]\n",
    "        return 0\n",
    "    \n",
    "    if W[i] > s:\n",
    "        return pilaCautaBT(i + 1, s, temp)\n",
    "    \n",
    "    return 1 + pilaCautaBT(i + 1, min(s - W[i], S[i]), temp[:] + [i + 1])"
   ]
  },
  {
   "cell_type": "code",
   "execution_count": 32,
   "id": "07a6f091",
   "metadata": {},
   "outputs": [],
   "source": [
    "def pilaCautaPD(i, s, temp, memo = None):\n",
    "    if memo is None:\n",
    "        memo = [[None] * (S[0] + 1) for _ in range(N + 1)]\n",
    "        \n",
    "    global res\n",
    "    if i == N:\n",
    "        res = temp[:]\n",
    "        return 0\n",
    "    \n",
    "    # handle the float('inf')\n",
    "    if s <= S[0] and memo[i][s] != None:\n",
    "        return memo[i][s]\n",
    "    \n",
    "    if W[i] > s:\n",
    "        return pilaCautaPD(i + 1, s, temp, memo)\n",
    "    \n",
    "    return 1 + pilaCautaPD(i + 1, min(s - W[i], S[i]), temp[:] + [i + 1], memo)"
   ]
  },
  {
   "cell_type": "code",
   "execution_count": 38,
   "id": "abf170b7",
   "metadata": {},
   "outputs": [],
   "source": [
    "res = []\n",
    "W = [35 , 27, 23, 20, 19, 7, 5,6, 1]\n",
    "S = [30, 28, 19, 13, 10, 13, 7, 8, 2]\n",
    "N = len(W)"
   ]
  },
  {
   "cell_type": "code",
   "execution_count": 121,
   "id": "ae5b2d32",
   "metadata": {},
   "outputs": [
    {
     "name": "stdout",
     "output_type": "stream",
     "text": [
      "BT tarda 4.029274e-05\n",
      "PD tarda 3.9339066e-05\n"
     ]
    },
    {
     "data": {
      "text/plain": [
       "[1, 2, 9]"
      ]
     },
     "execution_count": 121,
     "metadata": {},
     "output_type": "execute_result"
    }
   ],
   "source": [
    "from time import time\n",
    "res = []\n",
    "\n",
    "s = time()\n",
    "pilaCautaBT(0, float('inf'), [])\n",
    "print(f\"BT tarda {round(time() - s, 12)}\")\n",
    "res\n",
    "s = time()\n",
    "pilaCautaPD(0, float('inf'), [])\n",
    "print(f\"PD tarda {round(time() - s, 12)}\")\n",
    "res"
   ]
  },
  {
   "cell_type": "code",
   "execution_count": 62,
   "id": "5f48ca73",
   "metadata": {},
   "outputs": [
    {
     "data": {
      "text/plain": [
       "[1, 2, 9]"
      ]
     },
     "execution_count": 62,
     "metadata": {},
     "output_type": "execute_result"
    }
   ],
   "source": [
    "res"
   ]
  }
 ],
 "metadata": {
  "kernelspec": {
   "display_name": "Python 3 (ipykernel)",
   "language": "python",
   "name": "python3"
  },
  "language_info": {
   "codemirror_mode": {
    "name": "ipython",
    "version": 3
   },
   "file_extension": ".py",
   "mimetype": "text/x-python",
   "name": "python",
   "nbconvert_exporter": "python",
   "pygments_lexer": "ipython3",
   "version": "3.10.12"
  }
 },
 "nbformat": 4,
 "nbformat_minor": 5
}
