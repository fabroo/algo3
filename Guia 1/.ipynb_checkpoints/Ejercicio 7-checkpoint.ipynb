{
 "cells": [
  {
   "cell_type": "code",
   "execution_count": 52,
   "id": "edb29b8b",
   "metadata": {},
   "outputs": [],
   "source": [
    "def mgn(j, c):\n",
    "    if c < 0 or c > j:\n",
    "        return -float('inf')\n",
    "    \n",
    "    if j == 0:\n",
    "        return 0\n",
    "    \n",
    "    return max(mgn(j - 1, c - 1) - P[j - 1], mgn(j - 1, c + 1) + P[j - 1], mgn(j - 1, c))"
   ]
  },
  {
   "cell_type": "code",
   "execution_count": 67,
   "id": "59f7f533",
   "metadata": {},
   "outputs": [],
   "source": [
    "def mgnDP(j, c):\n",
    "    global M\n",
    "    \n",
    "    if c < 0 or c > j:\n",
    "        return -float('inf')\n",
    "    \n",
    "    if j == 0:\n",
    "        return 0\n",
    "    \n",
    "    if M[j][c] != None:\n",
    "        return M[j][c]\n",
    "    \n",
    "    M[j][c] = max(mgnDP(j - 1, c - 1) - P[j - 1], mgnDP(j - 1, c + 1) + P[j - 1], mgnDP(j - 1, c))\n",
    "    \n",
    "    return M[j][c]"
   ]
  },
  {
   "cell_type": "code",
   "execution_count": 91,
   "id": "12f3e084",
   "metadata": {},
   "outputs": [
    {
     "name": "stdout",
     "output_type": "stream",
     "text": [
      "[30, 20, 10, 0] [30, 20, 10, 0]\n"
     ]
    },
    {
     "data": {
      "text/plain": [
       "30"
      ]
     },
     "execution_count": 91,
     "metadata": {},
     "output_type": "execute_result"
    }
   ],
   "source": [
    "# no lo termine\n",
    "def mgnBU(j, c):\n",
    "    M_antes = [0] * (n + 1)\n",
    "    \n",
    "    for i in range(j):\n",
    "        M = [0] * (n + 1)\n",
    "        for k in range(j):\n",
    "            M[k] = max(M_antes[k - 1] - P[j - 1], M_antes[k + 1] + P[j - 1], M_antes[k])\n",
    "        M_antes = M\n",
    "    \n",
    "    print(M, M_antes)\n",
    "    \n",
    "    return M[c]\n",
    "\n",
    "P = [3, 6, 10]\n",
    "n = len(P)\n",
    "mgnBU(n, 0)\n"
   ]
  },
  {
   "cell_type": "code",
   "execution_count": 55,
   "id": "46daa581",
   "metadata": {},
   "outputs": [
    {
     "name": "stdout",
     "output_type": "stream",
     "text": [
      "PD tardo 0.0 segundos\n",
      "BT tardo 6.53 segundos\n"
     ]
    }
   ],
   "source": [
    "import time\n",
    "\n",
    "P = [3, 6, 10]\n",
    "n = len(P)\n",
    "M = [[None] * (n + 1) for _ in range(n+1)]\n",
    "\n",
    "s = time.time()\n",
    "mgnDP(n, 0)\n",
    "print(f\"PD tardo {round( time.time() - s, 2)} segundos\")\n",
    "s = time.time()\n",
    "mgn(n, 0)\n",
    "print(f\"BT tardo {round(time.time() - s, 2)} segundos\")\n"
   ]
  },
  {
   "cell_type": "code",
   "execution_count": 65,
   "id": "c564eeb6",
   "metadata": {},
   "outputs": [
    {
     "data": {
      "text/plain": [
       "[0, 0, 0, 0, 0, 0, 0, 0, 0, 0, 0, 0, 0, 0, 0, 0, 0, 0]"
      ]
     },
     "execution_count": 65,
     "metadata": {},
     "output_type": "execute_result"
    }
   ],
   "source": [
    "M = [0] * (n + 1)\n",
    "M"
   ]
  },
  {
   "cell_type": "code",
   "execution_count": null,
   "id": "290b1e15",
   "metadata": {},
   "outputs": [],
   "source": []
  },
  {
   "cell_type": "code",
   "execution_count": null,
   "id": "7e9b9f14",
   "metadata": {},
   "outputs": [],
   "source": []
  }
 ],
 "metadata": {
  "kernelspec": {
   "display_name": "Python 3 (ipykernel)",
   "language": "python",
   "name": "python3"
  },
  "language_info": {
   "codemirror_mode": {
    "name": "ipython",
    "version": 3
   },
   "file_extension": ".py",
   "mimetype": "text/x-python",
   "name": "python",
   "nbconvert_exporter": "python",
   "pygments_lexer": "ipython3",
   "version": "3.10.12"
  }
 },
 "nbformat": 4,
 "nbformat_minor": 5
}
