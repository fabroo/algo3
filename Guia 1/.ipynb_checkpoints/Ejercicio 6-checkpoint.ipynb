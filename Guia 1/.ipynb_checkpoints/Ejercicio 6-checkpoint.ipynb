{
 "cells": [
  {
   "cell_type": "code",
   "execution_count": 2,
   "id": "d37ba0ec",
   "metadata": {},
   "outputs": [
    {
     "data": {
      "text/plain": [
       "(2, -1)"
      ]
     },
     "execution_count": 2,
     "metadata": {},
     "output_type": "execute_result"
    }
   ],
   "source": [
    "min_q =  float('inf')\n",
    "closest_diff = -1 * float('inf')\n",
    "sol = []\n",
    "\n",
    "def optiPagoBT(B, i, j, q, res):\n",
    "    global sol\n",
    "    global min_q\n",
    "    global closest_diff\n",
    "    \n",
    "    if i == -1 and j > 0:\n",
    "        return\n",
    "    \n",
    "    if i == -1 or j <= 0:\n",
    "        if j > closest_diff or q < min_q:\n",
    "            closest_diff = j\n",
    "            min_q = q\n",
    "            sol = res\n",
    "    else:  \n",
    "        res_add = res[:] + [B[i]]\n",
    "        optiPagoBT(B, i - 1, j - B[i], q + 1, res_add) \n",
    "        optiPagoBT(B, i - 1, j, q, res) \n",
    "        \n",
    "\n",
    "\n",
    "            \n",
    "def optiPagoPD(B, i, j, q):\n",
    "    global M\n",
    "    \n",
    "    if j <= 0:\n",
    "        return (q, j)\n",
    "\n",
    "    if i == -1:\n",
    "        return (float('inf'), -float('inf'))\n",
    "\n",
    "    if M[i][j] != (None, None):\n",
    "        return M[i][j]\n",
    "    \n",
    "    q_i, j_i = optiPagoPD(B, i - 1, j - B[i], q + 1) \n",
    "    q_e, j_e = optiPagoPD(B, i - 1, j, q)\n",
    "\n",
    "    if q_i <= q_e and (j_i >= j_e):\n",
    "        M[i][j] = (q_i, j_i)\n",
    "    else:\n",
    "        M[i][j] = (q_e, j_e)\n",
    "\n",
    "    return M[i][j]\n",
    "\n",
    "def optiPagoPD_BU(B, n, c):\n",
    "    for i in range(1, n):\n",
    "        for j in range(1, c):\n",
    "            q_i, j_i = M[i - 1][max(j - B[i], 0)] \n",
    "            q_e, j_e = M[i - 1][j]\n",
    "\n",
    "            if q_i <= q_e and (j_i >= j_e):\n",
    "                M[i][j] = (q_i, j_i)\n",
    "            else:\n",
    "                M[i][j] = (q_e, j_e)\n",
    "    \n",
    "    return M[i][j]\n",
    "\n",
    "B = [2, 3, 5, 10, 20, 20,20]\n",
    "c = 14\n",
    "n = len(B)\n",
    "\n",
    "M = [[(None, None)] * (c + 1) for _ in range(n+1)]\n",
    "for i in range(n):\n",
    "    for j in range(c):\n",
    "        if j == 0 or i == 0:\n",
    "            M[i][j] = (float('inf'), -float('inf'))\n",
    "\n",
    "M[0][0] = (0, 0)            \n",
    "optiPagoPD(B, n - 1, c, 0)\n",
    "# optiPagoPD_BU(B, n, c)"
   ]
  }
 ],
 "metadata": {
  "kernelspec": {
   "display_name": "Python 3 (ipykernel)",
   "language": "python",
   "name": "python3"
  },
  "language_info": {
   "codemirror_mode": {
    "name": "ipython",
    "version": 3
   },
   "file_extension": ".py",
   "mimetype": "text/x-python",
   "name": "python",
   "nbconvert_exporter": "python",
   "pygments_lexer": "ipython3",
   "version": "3.10.12"
  }
 },
 "nbformat": 4,
 "nbformat_minor": 5
}
