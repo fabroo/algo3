{
 "cells": [
  {
   "cell_type": "code",
   "execution_count": 52,
   "id": "88f4a3a5",
   "metadata": {},
   "outputs": [
    {
     "data": {
      "text/plain": [
       "20"
      ]
     },
     "execution_count": 52,
     "metadata": {},
     "output_type": "execute_result"
    }
   ],
   "source": [
    "def cortesEconomicos(i, j, memo = None):\n",
    "    if memo is None:\n",
    "        memo = [[None] * (l + 1) for _ in range(l + 1)]\n",
    "        memo[0][0] = 0\n",
    "        \n",
    "    if i == j:\n",
    "        return 0\n",
    "    \n",
    "    if memo[i][j] is not None:\n",
    "        return memo[i][j]\n",
    "\n",
    "    min_ = l\n",
    "    for c in C:\n",
    "        if i < c and c < j:\n",
    "            if memo[i][c] is None:\n",
    "                memo[i][c] = cortesEconomicos(i, c, memo)\n",
    "            if memo[c][j] is None:\n",
    "                memo[c][j] = cortesEconomicos(c, j, memo)\n",
    "            \n",
    "            min_  = min((min_, memo[i][c] + memo[c][j]))\n",
    "    \n",
    "    return j - i + min_\n",
    "\n",
    "C = [4, 2, 7]\n",
    "l = 10\n",
    "\n",
    "cortesEconomicos(0, 10)"
   ]
  },
  {
   "cell_type": "code",
   "execution_count": null,
   "id": "5b4f3159",
   "metadata": {},
   "outputs": [],
   "source": []
  }
 ],
 "metadata": {
  "kernelspec": {
   "display_name": "Python 3 (ipykernel)",
   "language": "python",
   "name": "python3"
  },
  "language_info": {
   "codemirror_mode": {
    "name": "ipython",
    "version": 3
   },
   "file_extension": ".py",
   "mimetype": "text/x-python",
   "name": "python",
   "nbconvert_exporter": "python",
   "pygments_lexer": "ipython3",
   "version": "3.10.12"
  }
 },
 "nbformat": 4,
 "nbformat_minor": 5
}
