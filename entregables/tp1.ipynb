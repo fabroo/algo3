{
 "cells": [
  {
   "cell_type": "code",
   "execution_count": 90,
   "id": "ae6c8211",
   "metadata": {},
   "outputs": [
    {
     "data": {
      "text/plain": [
       "(('emotionalblind', 'jaan', 'sameezahur', 'sohelh', 'tanaeem'),\n",
       " ('brokenarrow', 'muntasir', 'shadowcoder', 'shamim', 'sidky'))"
      ]
     },
     "execution_count": 90,
     "metadata": {},
     "output_type": "execute_result"
    }
   ],
   "source": [
    "# ej 1\n",
    "\n",
    "def formation(players):\n",
    "    groups = {}\n",
    "    for player in players:\n",
    "        second_coord = player[1]\n",
    "        if second_coord not in groups:\n",
    "            groups[second_coord] = []\n",
    "        groups[second_coord].append(player)\n",
    "    \n",
    "    sorted_groups = {}\n",
    "    for key, group in groups.items():\n",
    "        sorted_group = sorted(group, key=lambda x: x[2])\n",
    "        sorted_groups[key] = sorted_group\n",
    "    \n",
    "    sorted_players = []\n",
    "    for key in sorted(sorted_groups.keys(), reverse=True):\n",
    "        sorted_players.extend(sorted_groups[key])\n",
    "    \n",
    "    attacker = sorted(sorted_players[0:5], key = lambda x: x[0])\n",
    "    deff = sorted(sorted_players[5:], key = lambda x: x[0])\n",
    "    \n",
    "    return tuple(r[0] for r in attacker), tuple(r[0] for r in deff)\n",
    "\n",
    "players = [   \n",
    "    ('sameezahur', 20, 21),\n",
    "    ('sohelh' ,18 ,9),\n",
    "    ('jaan' ,17 ,86),\n",
    "    ('sidky' ,16 ,36),\n",
    "    ('shamim' ,16 ,18),\n",
    "    ('shadowcoder', 12 ,9),\n",
    "    ('muntasir' ,13 ,4),\n",
    "    ('brokenarrow' ,16 ,16),\n",
    "    ('emotionalblind' ,16, 12),\n",
    "    ('tanaeem' ,20, 97)\n",
    "]\n",
    "\n",
    "formation(players)"
   ]
  },
  {
   "cell_type": "code",
   "execution_count": 96,
   "id": "34a0d565",
   "metadata": {
    "scrolled": true
   },
   "outputs": [
    {
     "name": "stdout",
     "output_type": "stream",
     "text": [
      "1\n",
      "scathing 6 4\n",
      "accordant 10 5\n",
      "forensic 3 9\n",
      "albania 6 9\n",
      "reg 3 3\n",
      "communism 10 9\n",
      "cornet 8 10\n",
      "ornate 8 4\n",
      "differentiation 10 8\n",
      "corfu 2 5\n",
      "Case 0:\n",
      "('accordant', 'communism', 'cornet', 'differentiation', 'ornate')\n",
      "('albania', 'corfu', 'forensic', 'reg', 'scathing')\n"
     ]
    }
   ],
   "source": [
    "t = int(input())\n",
    "tests = []\n",
    "for k in range(1, t+1):\n",
    "    players = []\n",
    "    for p in range(10):\n",
    "        i = input().split()\n",
    "        players.append((i[0], int(i[1]), int(i[2])))        \n",
    "    tests.append(players)\n",
    "for k in range(0, len(tests)):\n",
    "    players = tests[k]\n",
    "    players = sorted(players, key = lambda x: x[0])\n",
    "    groups = {}\n",
    "    for player in players:\n",
    "        second_coord = player[1]\n",
    "        if second_coord not in groups:\n",
    "            groups[second_coord] = []\n",
    "        groups[second_coord].append(player)\n",
    "\n",
    "    sorted_groups = {}\n",
    "    for key, group in groups.items():\n",
    "        sorted_group = sorted(group, key=lambda x: x[2])\n",
    "        sorted_groups[key] = sorted_group\n",
    "\n",
    "    sorted_players = []\n",
    "    for key in sorted(sorted_groups.keys(), reverse=True):\n",
    "        sorted_players.extend(sorted_groups[key])\n",
    "\n",
    "    attacker = sorted(sorted_players[0:5], key = lambda x: x[0])\n",
    "    deff = sorted(sorted_players[5:], key = lambda x: x[0])\n",
    "    \n",
    "    print(f\"Case {k + 1}:\")\n",
    "    print(str(tuple(r[0] for r in attacker if r[0])).replace(\"'\", \"\"))\n",
    "    print(str(tuple(r[0] for r in deff if r[0])).replace(\"'\", \"\"))\n",
    "\n",
    "\n"
   ]
  },
  {
   "cell_type": "code",
   "execution_count": 70,
   "id": "c309ddb5",
   "metadata": {},
   "outputs": [],
   "source": [
    "s= \"\"\"2\n",
    "g 20 20\n",
    "h 20 20\n",
    "i 20 20\n",
    "j 20 20\n",
    "a 20 20\n",
    "b 20 20\n",
    "c 20 20\n",
    "d 20 20\n",
    "e 20 20\n",
    "f 20 20\n",
    "b 69 69\n",
    "a 69 69\n",
    "a 69 69\n",
    "a 69 69\n",
    "a 69 69\n",
    "a 69 69\n",
    "a 69 69\n",
    "a 69 69\n",
    "a 69 69\n",
    "z 69 69\"\"\""
   ]
  },
  {
   "cell_type": "code",
   "execution_count": 71,
   "id": "0e48c82e",
   "metadata": {},
   "outputs": [
    {
     "name": "stdout",
     "output_type": "stream",
     "text": [
      "Case 1:\n",
      "(a, b, c, d, e)\n",
      "(f, g, h, i, j)\n",
      "Case 2:\n",
      "(a, a, a, a, a)\n",
      "(a, a, a, b, z)\n"
     ]
    }
   ],
   "source": [
    "input_ = s.split('\\n')\n",
    "t = int(input_[0])\n",
    "input_ = input_[1:]\n",
    "tests = []\n",
    "\n",
    "# 0-9 10-19\n",
    "for k in range(1, t+1):\n",
    "    players = []\n",
    "    for p in range(10):\n",
    "        i = input_[10*(k - 1) + p].split()\n",
    "        players.append((i[0], int(i[1]), int(i[2])))        \n",
    "    tests.append(players)\n",
    "for k in range(0, len(tests)):\n",
    "    players = tests[k]\n",
    "    players = sorted(players, key = lambda x: x[0])\n",
    "    groups = {}\n",
    "    for player in players:\n",
    "        second_coord = player[1]\n",
    "        if second_coord not in groups:\n",
    "            groups[second_coord] = []\n",
    "        groups[second_coord].append(player)\n",
    "\n",
    "    sorted_groups = {}\n",
    "    for key, group in groups.items():\n",
    "        sorted_group = sorted(group, key=lambda x: x[2])\n",
    "        sorted_groups[key] = sorted_group\n",
    "\n",
    "    sorted_players = []\n",
    "    for key in sorted(sorted_groups.keys(), reverse=True):\n",
    "        sorted_players.extend(sorted_groups[key])\n",
    "\n",
    "    attacker = sorted(sorted_players[0:5], key = lambda x: x[0])\n",
    "    deff = sorted(sorted_players[5:], key = lambda x: x[0])\n",
    "    \n",
    "    print(f\"Case {k + 1}:\")\n",
    "    print(str(tuple(r[0] for r in attacker if r[0])).replace(\"'\", \"\"))\n",
    "    print(str(tuple(r[0] for r in deff if r[0])).replace(\"'\", \"\"))\n",
    "\n",
    "\n"
   ]
  },
  {
   "cell_type": "code",
   "execution_count": null,
   "id": "0b7991a5",
   "metadata": {},
   "outputs": [],
   "source": []
  }
 ],
 "metadata": {
  "kernelspec": {
   "display_name": "Python 3 (ipykernel)",
   "language": "python",
   "name": "python3"
  },
  "language_info": {
   "codemirror_mode": {
    "name": "ipython",
    "version": 3
   },
   "file_extension": ".py",
   "mimetype": "text/x-python",
   "name": "python",
   "nbconvert_exporter": "python",
   "pygments_lexer": "ipython3",
   "version": "3.10.12"
  }
 },
 "nbformat": 4,
 "nbformat_minor": 5
}
