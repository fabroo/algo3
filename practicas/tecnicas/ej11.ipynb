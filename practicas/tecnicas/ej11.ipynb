{
 "cells": [
  {
   "cell_type": "code",
   "execution_count": 44,
   "id": "551cc8d0",
   "metadata": {},
   "outputs": [
    {
     "name": "stdout",
     "output_type": "stream",
     "text": [
      "*^*+\n",
      "^^*+\n"
     ]
    }
   ],
   "source": [
    "def operacionesSeq(v, w, res, dic = None):\n",
    "    if dic == None:\n",
    "        dic = {}\n",
    "      \n",
    "    if len(v) == 1:\n",
    "        if w == v[0]:\n",
    "            print(res)\n",
    "        return\n",
    "        \n",
    "    operacionesSeq(v[:len(v) - 1], w / v[-1], res + \"*\", dic)    \n",
    "    operacionesSeq(v[:len(v) - 1], w ** (1 / v[-1]), res + \"^\", dic)\n",
    "    operacionesSeq(v[:len(v) - 1], w - v[-1], res + \"+\", dic)\n",
    "    \n",
    "v = [3, 1, 5, 2, 1]\n",
    "w = 400\n",
    "operacionesSeq(v, w, \"\")\n"
   ]
  },
  {
   "cell_type": "code",
   "execution_count": null,
   "id": "225da471",
   "metadata": {},
   "outputs": [],
   "source": []
  }
 ],
 "metadata": {
  "kernelspec": {
   "display_name": "Python 3 (ipykernel)",
   "language": "python",
   "name": "python3"
  },
  "language_info": {
   "codemirror_mode": {
    "name": "ipython",
    "version": 3
   },
   "file_extension": ".py",
   "mimetype": "text/x-python",
   "name": "python",
   "nbconvert_exporter": "python",
   "pygments_lexer": "ipython3",
   "version": "3.10.12"
  }
 },
 "nbformat": 4,
 "nbformat_minor": 5
}
