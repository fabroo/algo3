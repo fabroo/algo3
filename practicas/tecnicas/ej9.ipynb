{
 "cells": [
  {
   "cell_type": "code",
   "execution_count": 2,
   "id": "d67d5531",
   "metadata": {},
   "outputs": [
    {
     "name": "stdout",
     "output_type": "stream",
     "text": [
      "6\n"
     ]
    }
   ],
   "source": [
    "def travesiaVital(i, j, memo=None):\n",
    "    global A, n, m  # Agregamos estas variables como globales\n",
    "    \n",
    "    if memo is None:\n",
    "        memo = [[None] * m for _ in range(n)]  # Corregimos el tamaño de la matriz de memorización\n",
    "\n",
    "    if i == n - 1 and j == m - 1:\n",
    "        if A[i][j] < 0:\n",
    "            return abs(A[i][j]) + 1\n",
    "        return 1\n",
    "\n",
    "    if memo[i][j] is not None:\n",
    "        return memo[i][j]\n",
    "\n",
    "    if i < n and j < m:\n",
    "        right_cost = travesiaVital(i, j + 1, memo) if j + 1 < m else 1\n",
    "        down_cost = travesiaVital(i + 1, j, memo) if i + 1 < n else 1\n",
    "        next_min = min(right_cost, down_cost)\n",
    "        memo[i][j] = max(1, next_min - A[i][j])\n",
    "        \n",
    "    elif i < n:\n",
    "        down_cost = travesiaVital(i + 1, j, memo)\n",
    "        memo[i][j] = max(1, down_cost - A[i][j])\n",
    "        \n",
    "    else:\n",
    "        right_cost = travesiaVital(i, j + 1, memo)\n",
    "        memo[i][j] = max(1, right_cost - A[i][j])\n",
    "        \n",
    "    return memo[i][j]\n",
    "\n",
    "A = [[-2, -3, 3],\n",
    "     [-5, -10, 1],\n",
    "     [10, 30, -5]]\n",
    "\n",
    "n = len(A)\n",
    "m = len(A[0])\n",
    "\n",
    "print(travesiaVital(0, 0))"
   ]
  },
  {
   "cell_type": "code",
   "execution_count": 49,
   "id": "674ea946",
   "metadata": {},
   "outputs": [
    {
     "name": "stdout",
     "output_type": "stream",
     "text": [
      "7\n"
     ]
    }
   ],
   "source": [
    "def travesiaVitalPD(A):\n",
    "    dic = {}\n",
    "    n = len(A)\n",
    "    m = len(A[0])\n",
    "    \n",
    "    # Initialize the bottom-right cell\n",
    "    if A[m - 1][n - 1] < 0:\n",
    "        dic[(m, n)] = abs(A[m - 1][n - 1]) + 1\n",
    "    else:\n",
    "        dic[(m, n)] = 1\n",
    "    \n",
    "    # Fill the last column\n",
    "    for j in range(n - 1, 0, -1):\n",
    "        if dic[(j + 1, n)] - A[j - 1][m - 1] > 0:\n",
    "            dic[(j, m)] = dic[(j + 1, m)] - A[j - 1][m - 1]\n",
    "        else:\n",
    "            dic[(j, m)] = 1\n",
    "            \n",
    "    # Fill the last row\n",
    "    for i in range(m - 1, 0, -1):\n",
    "        if dic[(n, i + 1)] - A[n - 1][i - 1] > 0:\n",
    "            dic[(n, i)] = dic[(n, i + 1)] - A[n - 1][i - 1]\n",
    "        else:\n",
    "            dic[(n, i)] = 1\n",
    "    \n",
    "    # Fill the remaining cells\n",
    "    for i in range(m - 1, 0, -1):\n",
    "        for j in range(n - 1, 0, -1):\n",
    "            down = dic[(i + 1, j)]\n",
    "            right = dic[(i, j + 1)]\n",
    "            \n",
    "            min_value = min(down, right)\n",
    "            if min_value - A[i - 1][j - 1] > 0:\n",
    "                dic[(i, j)] = min_value - A[i - 1][j - 1]\n",
    "            else:\n",
    "                dic[(i, j)] = 1\n",
    "    \n",
    "    return dic[(1, 1)]\n",
    "\n",
    "A = [[-2, -3, 3],\n",
    "     [-5, -10, 1],\n",
    "     [10, 30, -5]]\n",
    "\n",
    "n = len(A)\n",
    "m = len(A[0])\n",
    "\n",
    "print(travesiaVitalPD(A))"
   ]
  }
 ],
 "metadata": {
  "kernelspec": {
   "display_name": "Python 3 (ipykernel)",
   "language": "python",
   "name": "python3"
  },
  "language_info": {
   "codemirror_mode": {
    "name": "ipython",
    "version": 3
   },
   "file_extension": ".py",
   "mimetype": "text/x-python",
   "name": "python",
   "nbconvert_exporter": "python",
   "pygments_lexer": "ipython3",
   "version": "3.10.12"
  }
 },
 "nbformat": 4,
 "nbformat_minor": 5
}
