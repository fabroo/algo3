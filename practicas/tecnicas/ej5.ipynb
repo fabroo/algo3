{
 "cells": [
  {
   "cell_type": "code",
   "execution_count": 1,
   "id": "fdf22f19",
   "metadata": {},
   "outputs": [
    {
     "name": "stdout",
     "output_type": "stream",
     "text": [
      "True\n"
     ]
    }
   ],
   "source": [
    "# top down\n",
    "def sumaDinamica(C, i, j, res):\n",
    "    global M\n",
    "    global sol\n",
    "    if i == 0:\n",
    "        if j == 0:\n",
    "            sol = res\n",
    "            return True\n",
    "        return False\n",
    "    elif i != 0 and C[i] > j:\n",
    "        if M[i][j] is None:\n",
    "            M[i][j] = sumaDinamica(C, i - 1, j, res)\n",
    "    else:\n",
    "        if M[i][j] is None:\n",
    "            res_add = res[:] + [C[i]]\n",
    "            M[i][j] = sumaDinamica(C, i - 1, j - C[i], res_add) or sumaDinamica(C, i - 1, j, res)\n",
    "    return M[i][j]\n",
    "\n",
    "# mucho mas eficiente\n",
    "def sumaDinamicaBottomUp(C, k):\n",
    "    n = len(C)\n",
    "    M[0][0] = True\n",
    "    \n",
    "    for i in range(1, n + 1):\n",
    "        for j in range(k + 1):\n",
    "            M[i][j] = M[i - 1][j] or (j - C[i - 1] >= 0 and M[i - 1][j - C[i - 1]])\n",
    "    \n",
    "    return M[n][k]\n",
    "\n",
    "sol = None\n",
    "C = [6, 10, 2]\n",
    "n = len(C)\n",
    "k = 12\n",
    "\n",
    "M = [[None] * (k + 1) for _ in range(n + 1)]\n",
    "#sumaDinamica(C, n - 1, k, [])\n",
    "print(sumaDinamicaBottomUp(C, k))"
   ]
  }
 ],
 "metadata": {
  "kernelspec": {
   "display_name": "Python 3 (ipykernel)",
   "language": "python",
   "name": "python3"
  },
  "language_info": {
   "codemirror_mode": {
    "name": "ipython",
    "version": 3
   },
   "file_extension": ".py",
   "mimetype": "text/x-python",
   "name": "python",
   "nbconvert_exporter": "python",
   "pygments_lexer": "ipython3",
   "version": "3.10.12"
  }
 },
 "nbformat": 4,
 "nbformat_minor": 5
}
