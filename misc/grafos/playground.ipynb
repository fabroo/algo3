{
 "cells": [
  {
   "cell_type": "code",
   "execution_count": 19,
   "id": "ff632e52",
   "metadata": {},
   "outputs": [],
   "source": [
    "from collections import deque\n",
    "graph ={ \n",
    "'a':['c'], \n",
    "'b':['d'], \n",
    "'c':['e'], \n",
    "'d':['a', 'd'], \n",
    "'e':['b', 'c'] \n",
    "}"
   ]
  },
  {
   "cell_type": "code",
   "execution_count": 26,
   "id": "7c7d32f5",
   "metadata": {},
   "outputs": [
    {
     "data": {
      "text/plain": [
       "(['0000', '1111', '1155', '5511'], [('1111', 4), ('1155', 8), ('5511', 8)])"
      ]
     },
     "execution_count": 26,
     "metadata": {},
     "output_type": "execute_result"
    }
   ],
   "source": [
    "adj = {\n",
    "    '0000':[('1111', 4), ('1155', 12), ('5511', 12)],\n",
    "    '1111':[('0000', 4), ('1155', 8), ('5511', 8)],\n",
    "    '1155':[('1111', 8), ('0000', 12), ('5511', 16)],\n",
    "    '5511':[('1111', 8), ('1155', 16), ('0000', 12)]\n",
    "}\n",
    "\n",
    "def prim(adj):\n",
    "    Vt = ['0000']\n",
    "    Xt = []\n",
    "    for i in range(len(adj) - 1):\n",
    "        min_e = None\n",
    "        min_v = None\n",
    "        for v in Vt:\n",
    "            for vecino in adj[v]:\n",
    "                if vecino[0] in Vt: continue\n",
    "                if min_e == None or min_e[1] > vecino[1]:\n",
    "                    min_e = vecino\n",
    "                    min_v = vecino[0]\n",
    "        \n",
    "        Xt.append(min_e)\n",
    "        Vt.append(min_v)\n",
    "    return Vt, Xt\n",
    "prim(adj)"
   ]
  },
  {
   "cell_type": "code",
   "execution_count": 15,
   "id": "d45ae59a",
   "metadata": {},
   "outputs": [
    {
     "name": "stdout",
     "output_type": "stream",
     "text": [
      "1\n",
      "399 1681 2223 5436 3908 8292 2136 2326 2161 7853 9328 4771 1946 8897 4750 8170 9720 8109 1294 3170 8110 2108 8626 4257 3131 2263 2205 8096 0082 8200 7321 6430 5591 7930 9516 2134 8201 8763 7677 5201 6147 7613 0918 7599 8787 7077 0794 2547 5520 4773 9686 3652 4381 1583 2669 3734 1353 0045 3689 1965 1545 8641 6180 6984 7219 5350 4670 5659 1591 7914 9350 3750 2960 6625 1026 6930 3660 2556 3872 7505 6871 0009 0758 7685 9871 2859 6871 2139 3079 5563 5421 1764 7614 1369 4928 0590 7935 5065 7387 0228 2233 9388 2394 6509 9152 9876 0665 0190 4699 1043 8482 9676 7211 5797 0764 3389 2106 7013 8697 9092 5023 1719 0075 4016 2019 2133 7533 8259 3717 2685 6265 8687 4143 8191 6953 9959 1472 2008 2032 8531 1181 1546 1446 0150 2366 5093 3621 2560 7862 2727 0783 3650 3962 0446 7148 1236 4201 5853 0437 6494 9191 1408 7966 5858 8765 8869 3153 4353 6334 3408 3211 8453 8778 2611 5400 4481 2706 0895 7840 7360 3443 7046 0948 0373 2440 8432 0350 0766 5023 5394 1508 2839 4519 2000 6820 1565 0777 1990 2156 8107 6413 0250 6327 0391 3138 2708 1900 1863 5051 5839 6103 2192 0125 8935 2499 1523 1904 7739 4763 6785 5717 9496 3058 8694 9739 0131 9135 2998 7902 9425 7105 7548 1843 5015 1744 8437 8195 2532 1532 9847 3073 4017 6998 2466 0954 6196 4690 4817 0196 1138 7197 3052 6643 9263 2865 8195 4393 8195 2053 0573 5775 8278 1056 2072 3581 0470 1373 3314 3095 4754 2467 8809 0300 0592 3425 4437 2842 6686 1368 4363 1853 2613 3839 3673 6531 2337 6641 2762 2131 0742 7526 9549 7972 9476 6308 1110 0441 9251 1312 6676 0091 3308 1216 4396 2586 5733 3476 0897 0498 0260 6804 3484 2639 2029 9253 8965 9752 1902 9275 8817 2573 7520 5820 2431 5108 8691 2877 3096 6500 6467 9040 9111 0139 1394 0759 7436 2255 5910 2559 6860 1386 4998 1370 8804 8053 9332 9298 6549 5627 4628 7657 4066 6517 6657 9928 1741 6946 6637 9047 2533 9990 4066 2260 5657 2546 4560 8596 5729 2073 0707 6336 2756 9319 8597 6715 7747 8805 1323 0892 5859 4982 2683 5290 0639 3377 7059 5248 1881 5016 7632 9613 1442 2378 4635 2470 1503 8396 1821 0235 6707\n",
      "511\n"
     ]
    }
   ],
   "source": [
    "import heapq\n",
    "\n",
    "def prim(adj, start_vertex):\n",
    "    Vt = set([start_vertex])\n",
    "    Xt = []\n",
    "    edges = []\n",
    "\n",
    "    for vecino in adj[start_vertex]:\n",
    "        heapq.heappush(edges, (vecino[1], start_vertex, vecino[0]))\n",
    "    i = 0\n",
    "    n = len(adj)\n",
    "    while i < n:\n",
    "        weight, u, v = heapq.heappop(edges)\n",
    "        if v not in Vt:\n",
    "            Vt.add(v)\n",
    "            Xt.append((u, v, weight))\n",
    "            \n",
    "            for vecino in adj[v]:\n",
    "                if vecino[0] not in Vt:\n",
    "                    heapq.heappush(edges, (vecino[1], v, vecino[0]))\n",
    "        i += 1\n",
    "    return list(Vt), Xt\n",
    "\n",
    "def dist(v, w):\n",
    "    acc = 0\n",
    "    for i in range(4):\n",
    "        c1, c2 = int(v[i]), int(w[i])\n",
    "        diff = abs(c1 - c2)\n",
    "        if diff <= 5:\n",
    "            acc += diff\n",
    "        else:\n",
    "            acc += 10 - diff\n",
    "    return acc\n",
    "\n",
    "cases = int(input())\n",
    "for k in range(cases):\n",
    "    i = input()\n",
    "    parsed = i.split(' ')\n",
    "    n = int(parsed[0])\n",
    "    nodes = parsed[1:]\n",
    "    \n",
    "    initial_d = None\n",
    "    for i in range(n):\n",
    "        d = dist('0000', nodes[i])\n",
    "        if initial_d == None or d < initial_d:\n",
    "            initial_d = d\n",
    "    \n",
    "    adj = {}\n",
    "\n",
    "    for i in range(n):\n",
    "        for j in range(n):\n",
    "            if i == j: continue\n",
    "            d = dist(nodes[i], nodes[j])\n",
    "            if nodes[i] not in adj:\n",
    "                adj[nodes[i]] = [(nodes[j], d)]\n",
    "            else:\n",
    "                adj[nodes[i]].append((nodes[j], d))\n",
    "\n",
    "    Vt, Xt = prim(adj, nodes[0])\n",
    "    min_num = sum([e[2] for e in Xt]) + initial_d\n",
    "    print(min_num)"
   ]
  },
  {
   "cell_type": "code",
   "execution_count": 17,
   "id": "6d61305c",
   "metadata": {},
   "outputs": [
    {
     "data": {
      "text/plain": [
       "['0000', '2145', '0213', '9113']"
      ]
     },
     "execution_count": 17,
     "metadata": {},
     "output_type": "execute_result"
    }
   ],
   "source": [
    "nodes"
   ]
  }
 ],
 "metadata": {
  "kernelspec": {
   "display_name": "Python 3 (ipykernel)",
   "language": "python",
   "name": "python3"
  },
  "language_info": {
   "codemirror_mode": {
    "name": "ipython",
    "version": 3
   },
   "file_extension": ".py",
   "mimetype": "text/x-python",
   "name": "python",
   "nbconvert_exporter": "python",
   "pygments_lexer": "ipython3",
   "version": "3.11.2"
  }
 },
 "nbformat": 4,
 "nbformat_minor": 5
}
